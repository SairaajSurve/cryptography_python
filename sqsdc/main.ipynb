{
 "cells": [
  {
   "cell_type": "code",
   "execution_count": 62,
   "metadata": {},
   "outputs": [],
   "source": [
    "from qiskit import *\n",
    "import math\n",
    "import numpy as np\n",
    "import hashlib\n",
    "from qiskit.tools.visualization import circuit_drawer\n",
    "from Crypto.Cipher import AES\n",
    "from Crypto.Random import get_random_bytes\n",
    "import Padding\n",
    "import random\n",
    "import time\n",
    "import json"
   ]
  },
  {
   "cell_type": "code",
   "execution_count": 63,
   "metadata": {},
   "outputs": [],
   "source": [
    "simulator = Aer.get_backend('qasm_simulator')"
   ]
  },
  {
   "cell_type": "markdown",
   "metadata": {},
   "source": [
    "Parameter Definition "
   ]
  },
  {
   "cell_type": "code",
   "execution_count": 64,
   "metadata": {},
   "outputs": [
    {
     "name": "stdout",
     "output_type": "stream",
     "text": [
      "delta=0.125\n",
      "m=2\n",
      "k=2\n",
      "n=4\n",
      "N=18\n"
     ]
    }
   ],
   "source": [
    "# delta parameter\n",
    "delta = 1/8\n",
    "\n",
    "# length of secret\n",
    "m = 2\n",
    "\n",
    "# length of hash\n",
    "k = 2\n",
    "\n",
    "n = m + k\n",
    "\n",
    "N = math.ceil(4*n*(1+delta))\n",
    "\n",
    "# error rate\n",
    "error_rate = 0.5\n",
    "\n",
    "# path to database\n",
    "sm_cc_db = \"./db/sm_cc.txt\"\n",
    "sm_nan_db = \"./db/sm_nan.txt\"\n",
    "nan_cc_db = \"./db/nan_cc.txt\"\n",
    "\n",
    "# length of challenge\n",
    "\n",
    "len_of_R = 2**4\n",
    "\n",
    "# printing\n",
    "\n",
    "print(f'{delta=}')\n",
    "print(f'{m=}')\n",
    "print(f'{k=}')\n",
    "print(f'{n=}')\n",
    "print(f'{N=}')"
   ]
  },
  {
   "cell_type": "markdown",
   "metadata": {},
   "source": [
    "File handling"
   ]
  },
  {
   "cell_type": "code",
   "execution_count": 65,
   "metadata": {},
   "outputs": [],
   "source": [
    "def addSMToCC(sm, secret_key):\n",
    "    '''\n",
    "    sm(string): name of smart meter\n",
    "    key(string): binary string of secret_key\n",
    "    return-\n",
    "    bool: True or False if file saving was successfull\n",
    "    '''\n",
    "    with open(sm_cc_db, \"a\") as file:\n",
    "        file.write(f'{sm}:{secret_key}\\n')\n",
    "    return True"
   ]
  },
  {
   "cell_type": "code",
   "execution_count": 66,
   "metadata": {},
   "outputs": [],
   "source": [
    "def addSMToNAN(sm, session_key):\n",
    "    '''\n",
    "    sm(string): name of smart meter\n",
    "    key(string): binary string of session_key\n",
    "    return-\n",
    "    bool: True or False if file saving was successfull\n",
    "    '''\n",
    "    with open(sm_nan_db, \"a\") as file:\n",
    "        file.write(f'{sm}:{session_key}:{0}\\n')\n",
    "    return True"
   ]
  },
  {
   "cell_type": "code",
   "execution_count": 67,
   "metadata": {},
   "outputs": [],
   "source": [
    "def addNANToCC(nan, secret_key):\n",
    "    '''\n",
    "    nan(string): name of NAN Gateway\n",
    "    key(string): binary string of secret key\n",
    "    return-\n",
    "    bool: True or False if file saving was successfull\n",
    "    '''\n",
    "    with open(nan_cc_db, \"a\") as file:\n",
    "        file.write(f'{nan}:{secret_key}\\n')\n",
    "    return True"
   ]
  },
  {
   "cell_type": "code",
   "execution_count": 68,
   "metadata": {},
   "outputs": [],
   "source": [
    "def getSMFromCC(sm):\n",
    "    '''\n",
    "    sm(string): name of smart meter\n",
    "    return-\n",
    "    key(string): binary string of secret key\n",
    "    '''\n",
    "    with open(sm_cc_db, \"r\") as file:\n",
    "        for row in file.read().split('\\n')[:-1]:\n",
    "            [_sm, _key] = row.split(':')\n",
    "            if _sm == sm:\n",
    "                return _key\n",
    "    return None"
   ]
  },
  {
   "cell_type": "code",
   "execution_count": 69,
   "metadata": {},
   "outputs": [],
   "source": [
    "def getSMFromNAN(sm):\n",
    "    '''\n",
    "    sm(string): name of smart meter\n",
    "    return-\n",
    "    key(string): binary string of session key\n",
    "    '''\n",
    "    with open(sm_nan_db, \"r\") as file:\n",
    "        for row in file.read().split('\\n')[:-1]:\n",
    "            [_sm, _key, _md] = row.split(':')\n",
    "            if _sm == sm:\n",
    "                return _key, _md\n",
    "    return None"
   ]
  },
  {
   "cell_type": "code",
   "execution_count": 70,
   "metadata": {},
   "outputs": [],
   "source": [
    "def getNANFromCC(nan):\n",
    "    '''\n",
    "    nan(string): name of NAN Gateway\n",
    "    return-\n",
    "    key(string): binary string of secret key\n",
    "    '''\n",
    "    with open(nan_cc_db, \"r\") as file:\n",
    "        for row in file.read().split('\\n')[:-1]:\n",
    "            [_nan, _key] = row.split(':')\n",
    "            if _nan == nan:\n",
    "                return _key\n",
    "    return None"
   ]
  },
  {
   "cell_type": "markdown",
   "metadata": {},
   "source": [
    "SQDSC"
   ]
  },
  {
   "cell_type": "markdown",
   "metadata": {},
   "source": [
    "State\n",
    "$$(0, 1, 2, 3) = (|0>, |1>, |+>, |->)$$"
   ]
  },
  {
   "cell_type": "code",
   "execution_count": 71,
   "metadata": {},
   "outputs": [],
   "source": [
    "def encodeQubits(state, circuit, idx):\n",
    "    \"\"\"\n",
    "    state (int): (0, 1, 2, 3) = (|0>, |1>, |+>, |->)\n",
    "    circuit (QuantumCircuit): the circuit used for communication\n",
    "    idx (int): index of the qubit\n",
    "    \"\"\"\n",
    "    if state%2:\n",
    "        circuit.x(idx)\n",
    "    if state >= 2:\n",
    "        circuit.h(idx)\n",
    "    return circuit"
   ]
  },
  {
   "cell_type": "code",
   "execution_count": 72,
   "metadata": {},
   "outputs": [],
   "source": [
    "def sqdsc(key):\n",
    "    \"\"\"\n",
    "    key(string): binary string of key\n",
    "    return-\n",
    "    bool: True or False if protocol was successfull\n",
    "    \"\"\"\n",
    "\n",
    "    # Step 1\n",
    "    \n",
    "    # generate random states of A batch\n",
    "    A = np.random.randint(4, size=N)\n",
    "\n",
    "    print(\"States: (0, 1, 2, 3) = (|0>, |1>, |+>, |->)\")\n",
    "    print(\"A: \", end=\"\")\n",
    "    print(A)\n",
    "    \n",
    "    # circuit for communication\n",
    "    circuit = QuantumCircuit(N, N)\n",
    "    \n",
    "    for idx, elem in enumerate(A):\n",
    "        circuit = encodeQubits(elem, circuit, idx)\n",
    "    \n",
    "    # Step 2\n",
    "    \n",
    "    # S batch\n",
    "    \n",
    "    S = np.random.choice(N, N//2, replace=False)\n",
    "    S.sort()\n",
    "    \n",
    "    print(\"S: \", end=\"\")\n",
    "    print(S)\n",
    "\n",
    "    # T batch\n",
    "    \n",
    "    T = []\n",
    "    \n",
    "    for i in range(N):\n",
    "        if i not in S:\n",
    "            T.append(i)\n",
    "    \n",
    "    T = np.array(T)\n",
    "    \n",
    "    print(\"T: \", end=\"\")\n",
    "    print(T)\n",
    "\n",
    "    # sm decesion to measure S\n",
    "    toMeasureS = np.random.randint(2, size=N//2)\n",
    "    \n",
    "    tempS = dict(zip(S, toMeasureS))\n",
    "    \n",
    "    print(\"(S[i], toMeasureS[i])\", end=\"\")\n",
    "    print(tempS)\n",
    "\n",
    "    # measurement of qubits in S by sm\n",
    "\n",
    "    sec_tested = 0\n",
    "\n",
    "    for i, d in tempS.items():\n",
    "        sec_tested  += d\n",
    "        if d:\n",
    "            circuit.measure(i, i)\n",
    "\n",
    "\n",
    "    # storing results by sm\n",
    "\n",
    "    result_sm = execute(circuit, backend=simulator, shots=1).result()\n",
    "    count_sm_dict = result_sm.get_counts(circuit)\n",
    "    count_sm = list(count_sm_dict.keys())[0][::-1]\n",
    "\n",
    "\n",
    "    ### TAMPERING\n",
    "    \n",
    "    circuit.barrier()\n",
    "    \n",
    "    # measurement of qubits in S by nan\n",
    "\n",
    "    tempS = dict(zip(S, toMeasureS))\n",
    "\n",
    "    for i, d in tempS.items():\n",
    "        if d:\n",
    "            circuit.measure(i, i)\n",
    "    \n",
    "    # storing results by sm\n",
    "\n",
    "    result_nan = execute(circuit, backend=simulator, shots=1).result()\n",
    "    count_nan_dict = result_nan.get_counts(circuit)\n",
    "    count_nan = list(count_nan_dict.keys())[0][::-1]\n",
    "\n",
    "    # error checking\n",
    "\n",
    "    e = 0\n",
    "\n",
    "    for i in toMeasureS:\n",
    "        e += int((count_sm[i] != count_nan[i]))\n",
    "\n",
    "    e = e/sec_tested\n",
    "\n",
    "    if e >= error_rate:\n",
    "        print(\"Line 85: Error rate is higher than threshold. Protocol Aborted\")\n",
    "        return False\n",
    "    \n",
    "    # step 3\n",
    "\n",
    "    circuit.barrier()\n",
    "\n",
    "    # generating B batch\n",
    "\n",
    "    B = []\n",
    "\n",
    "    for t in T:\n",
    "        if A[t] <= 1:\n",
    "            B.append(t)\n",
    "    \n",
    "    if len(B) < n:\n",
    "        print(\"Line 103: len(B) < m. Protocol Aborted\")\n",
    "        return False\n",
    "\n",
    "    B = np.random.choice(np.array(B), n, replace=False)\n",
    "    B.sort()\n",
    "\n",
    "    print(\"B: \", end=\"\")\n",
    "    print(B)\n",
    "\n",
    "    # message and hash generation\n",
    "\n",
    "    M = key\n",
    "\n",
    "    print(\"M: \", end=\"\")\n",
    "    print(M)\n",
    "\n",
    "    H_of_M = bin(int(hashlib.sha512(M.encode('utf-8')).hexdigest(), 16))[2:2+k]\n",
    "\n",
    "    print(\"H_of_M: \", end=\"\")\n",
    "    print(H_of_M)\n",
    "\n",
    "    M_hat = M + H_of_M\n",
    "\n",
    "    # encoding in quantum circuit\n",
    "\n",
    "    for idx, b in enumerate(B):\n",
    "        if M_hat[idx] == \"1\":\n",
    "                circuit.x(b)\n",
    "\n",
    "    # measurement by nan\n",
    "    \n",
    "    circuit.barrier()\n",
    "\n",
    "    for b in B:\n",
    "        circuit.measure(b, b)\n",
    "\n",
    "    result_final = execute(circuit, backend=simulator, shots=1).result()\n",
    "    count_final_dict = result_final.get_counts(circuit)\n",
    "    count_final = list(count_final_dict.keys())[0][::-1]\n",
    "\n",
    "    # calculating M_prime_hat\n",
    "\n",
    "    M_prime_hat = \"\"\n",
    "    for b in B:\n",
    "        if int(count_final[b]) == A[b]:\n",
    "            M_prime_hat += \"0\"\n",
    "        else:\n",
    "            M_prime_hat += \"1\"\n",
    "\n",
    "    M_prime = M_prime_hat[:m]\n",
    "    h_prime = M_prime_hat[m:m+k]\n",
    "\n",
    "    print(\"M_prime: \", end=\"\")\n",
    "    print(M_prime)\n",
    "\n",
    "    print(\"h_prime: \", end=\"\")\n",
    "    print(h_prime)\n",
    "\n",
    "    H_of_M_prime = bin(int(hashlib.sha512(M_prime.encode('utf-8')).hexdigest(), 16))[2:2+k]\n",
    "\n",
    "    if H_of_M_prime != h_prime:\n",
    "        print(\"Line 147: Hashes dont match. Protocol Aborted\")\n",
    "        return False\n",
    "\n",
    "    return True"
   ]
  },
  {
   "cell_type": "markdown",
   "metadata": {},
   "source": [
    "# Phase 1"
   ]
  },
  {
   "cell_type": "code",
   "execution_count": 73,
   "metadata": {},
   "outputs": [],
   "source": [
    "def phase1(sm, nan, sm_key, nan_key):\n",
    "    \"\"\"\n",
    "    sm(string): name of smart meter\n",
    "    nan(string): name of NAN Gateway\n",
    "    sm_key(string): binary string of secret key for smart meter\n",
    "    nan_key(string): binary string of secret key for NAN gateway\n",
    "    return-\n",
    "    bool: True or False if phase 1 was successfull\n",
    "    \"\"\"\n",
    "\n",
    "    if sqdsc(sm_key) and sqdsc(nan_key):\n",
    "        if addSMToCC(sm, sm_key) and addNANToCC(nan, sm_key):\n",
    "            return True\n",
    "    return False"
   ]
  },
  {
   "cell_type": "markdown",
   "metadata": {},
   "source": [
    "# Phase 2"
   ]
  },
  {
   "cell_type": "code",
   "execution_count": 74,
   "metadata": {},
   "outputs": [],
   "source": [
    "def getChallenge():\n",
    "    return f'{random.getrandbits(len_of_R):=016b}'"
   ]
  },
  {
   "cell_type": "code",
   "execution_count": 75,
   "metadata": {},
   "outputs": [],
   "source": [
    "def phase2(sm, sm_key):\n",
    "    \"\"\"\n",
    "    sm(string): name of sm\n",
    "    sm_key(string): binary string of secret key\n",
    "    return-\n",
    "    bool: True or False if phase 2 was successfull\n",
    "    \"\"\"\n",
    "\n",
    "    # SM initiates connection with CC via NAN\n",
    "\n",
    "    # CC generates Rb and sends it to SM via NAN\n",
    "\n",
    "    Rb = getChallenge()\n",
    "    print(f'{Rb=}')\n",
    "    \n",
    "    # SM generates their own challenge string\n",
    "\n",
    "    Ra = getChallenge()\n",
    "    print(f'{Ra=}')\n",
    "\n",
    "    # encrypted package by SM and sent to CC via NAN\n",
    "\n",
    "    while len(sm_key) < 16:\n",
    "            sm_key = \"0\" + sm_key\n",
    "\n",
    "    cipher = AES.new((sm_key).encode('utf-8'), AES.MODE_ECB)\n",
    "\n",
    "    padded_data = Padding.appendPadding(\n",
    "        Ra+Rb, blocksize=Padding.AES_blocksize, mode=0)\n",
    "    \n",
    "    sm_package = cipher.encrypt(padded_data.encode(\"utf-8\"))\n",
    "\n",
    "    # CC decrypts and checks if the data matches\n",
    "\n",
    "    cc_sm_key = getSMFromCC(sm)\n",
    "\n",
    "    while len(cc_sm_key) < 16:\n",
    "            cc_sm_key = \"0\" + cc_sm_key\n",
    "\n",
    "    print(f'{cc_sm_key=}')\n",
    "\n",
    "    cipher = AES.new((cc_sm_key).encode('utf-8'), AES.MODE_ECB)\n",
    "\n",
    "    decrypted_data = Padding.removePadding(\n",
    "    cipher.decrypt(sm_package).decode(), mode=0)\n",
    "    \n",
    "    _Rb = decrypted_data[16:]\n",
    "    _Ra = decrypted_data[:16]\n",
    "\n",
    "    print(f'{_Ra=}')\n",
    "    print(f'{_Rb=}')\n",
    "\n",
    "    if Rb != _Rb:\n",
    "        return False\n",
    "\n",
    "    # CC sends SM its own package via NAN\n",
    "\n",
    "    cipher = AES.new((sm_key).encode('utf-8'), AES.MODE_ECB)\n",
    "\n",
    "    padded_data = Padding.appendPadding(\n",
    "        _Ra+_Rb, blocksize=Padding.AES_blocksize, mode=0)\n",
    "    \n",
    "    cc_package = cipher.encrypt(padded_data.encode(\"utf-8\"))\n",
    "\n",
    "    # SM decrypts and checks if the data matches\n",
    "\n",
    "    cipher = AES.new((sm_key).encode('utf-8'), AES.MODE_ECB)\n",
    "\n",
    "    decrypted_data = Padding.removePadding(\n",
    "    cipher.decrypt(cc_package).decode(), mode=0)\n",
    "    \n",
    "    __Rb = decrypted_data[16:]\n",
    "    __Ra = decrypted_data[:16]\n",
    "\n",
    "    print(f'{__Ra=}')\n",
    "    print(f'{__Rb=}')\n",
    "\n",
    "    if Ra != __Ra or Rb != __Rb:\n",
    "        return False\n",
    "\n",
    "    return True"
   ]
  },
  {
   "cell_type": "markdown",
   "metadata": {},
   "source": [
    "# Phase 3"
   ]
  },
  {
   "cell_type": "code",
   "execution_count": 76,
   "metadata": {},
   "outputs": [],
   "source": [
    "def phase3(sm, sm_key):\n",
    "    \"\"\"\n",
    "    sm(string): name of smart meter\n",
    "    sm_key(string): binary string of session key for smart meter\n",
    "    return-\n",
    "    bool: True or False if phase 1 was successfull\n",
    "    \"\"\"\n",
    "\n",
    "    if sqdsc(sm_key):\n",
    "        if addSMToNAN(sm, sm_key):\n",
    "            return True\n",
    "    return False"
   ]
  },
  {
   "cell_type": "markdown",
   "metadata": {},
   "source": [
    "# Phase 4"
   ]
  },
  {
   "cell_type": "code",
   "execution_count": 77,
   "metadata": {},
   "outputs": [],
   "source": [
    "def getBillReq(session_key, PSID, MDCurr):\n",
    "    '''\n",
    "    session_key(str): SessionKey of SM\n",
    "    PSID(str): PSID of SM\n",
    "    MDCurr(float): current metering data\n",
    "    '''\n",
    "\n",
    "\n",
    "    while len(session_key) < 16:\n",
    "            session_key = \"0\" + session_key\n",
    "\n",
    "    Tsm = time.time()\n",
    "\n",
    "    message = {\n",
    "        \"MDCurr\": MDCurr,\n",
    "        \"PSID\": PSID,\n",
    "        \"Tsm\": Tsm,\n",
    "    }\n",
    "\n",
    "    cipher = AES.new((session_key).encode('utf-8'), AES.MODE_ECB)\n",
    "\n",
    "    padded_data = Padding.appendPadding(\n",
    "        json.dumps(message), blocksize=Padding.AES_blocksize, mode=0)\n",
    "    \n",
    "    package = cipher.encrypt(padded_data.encode(\"utf-8\"))\n",
    "    \n",
    "\n",
    "    \n",
    "    return {\n",
    "        \"package\": package,\n",
    "        \"PSID\": PSID,\n",
    "    }"
   ]
  },
  {
   "cell_type": "code",
   "execution_count": 78,
   "metadata": {},
   "outputs": [],
   "source": [
    "def updateMD(PSID, MD):\n",
    "    '''\n",
    "    PSID(str): PSID of SM\n",
    "    '''\n",
    "\n",
    "    data = []\n",
    "\n",
    "    with open(sm_nan_db, \"r\") as file:\n",
    "        for row in file.read().split('\\n')[:-1]:\n",
    "            [_PSID, _SharedKey, _md] = row.split(':')\n",
    "            if _PSID == PSID:\n",
    "                _md = str(MD)\n",
    "                row = \":\".join([_PSID, _SharedKey, _md])\n",
    "            data.append(row)\n",
    "    \n",
    "    with open(sm_nan_db, \"w\") as file:\n",
    "        for row in data:\n",
    "            file.write(f'{row}\\n')\n",
    "    return True"
   ]
  },
  {
   "cell_type": "code",
   "execution_count": 79,
   "metadata": {},
   "outputs": [],
   "source": [
    "def phase4(session_key, PSID, MDCurr):\n",
    "    '''\n",
    "    session_key(str): SessionKey of SM\n",
    "    PSID(str): PSID of SM\n",
    "    MDCurr(float): current metering data\n",
    "    '''\n",
    "    print(f'{PSID=}')\n",
    "\n",
    "    BillReq = getBillReq(session_key, PSID, MDCurr)\n",
    "\n",
    "    package = BillReq[\"package\"]\n",
    "\n",
    "    print(f'{session_key=}')\n",
    "    [nan_session_key, MDPrev] = getSMFromNAN(PSID)\n",
    "    print(f'{nan_session_key=}')\n",
    "\n",
    "    while len(nan_session_key) < 16:\n",
    "        nan_session_key = \"0\" + nan_session_key\n",
    "\n",
    "    cipher = AES.new((nan_session_key).encode('utf-8'), AES.MODE_ECB)\n",
    "\n",
    "    decrypted_data = Padding.removePadding(\n",
    "        cipher.decrypt(package).decode(), mode=0)\n",
    "\n",
    "    print(f'{decrypted_data=}')\n",
    "\n",
    "    data_obj = json.loads(decrypted_data)\n",
    "\n",
    "    print(f'{data_obj=}')\n",
    "\n",
    "    if time.time() - float(data_obj[\"Tsm\"]) > 40*1000:\n",
    "        print(\"Old request\")\n",
    "        return False\n",
    "\n",
    "    if data_obj[\"PSID\"] != PSID:\n",
    "        print(\"Invalid data\")\n",
    "        return False\n",
    "\n",
    "    if updateMD(PSID, MDCurr - int(MDPrev)):\n",
    "        return True\n",
    "\n",
    "    print(\"Metering Data updation failed\")\n",
    "    return False"
   ]
  },
  {
   "cell_type": "markdown",
   "metadata": {},
   "source": [
    "# Menu Based Cells"
   ]
  },
  {
   "cell_type": "code",
   "execution_count": 80,
   "metadata": {},
   "outputs": [],
   "source": [
    "# c = None\n",
    "\n",
    "# while c != 0:\n",
    "#     print(\"0. Exit\")\n",
    "#     print(\"1. Add SM and NAN\")\n",
    "#     print(\"2. Bi-directional Authentication\")\n",
    "#     print(\"3. Generate Session Key\")\n",
    "#     print(\"4. Get Bill\")\n",
    "#     c = int(input(\"Enter your choice: \"))\n",
    "\n",
    "#     if c == 1:\n",
    "#         sm_id = input(\"SM id: \")\n",
    "#         nan_id = input(\"nan id: \")\n",
    "#         sm_key = input(\"sm_key: \")\n",
    "#         nan_key = input(\"nan_key: \")\n",
    "#         print(phase1(sm_id, nan_id, sm_key, nan_key))\n",
    "#     if c == 2:\n",
    "#         sm_id = input(\"SM id: \")\n",
    "#         session_key = input(\"session_key: \")\n",
    "#         print(phase2(sm_id, sm_key))\n",
    "#     if c == 3:\n",
    "#         sm_id = input(\"SM id: \")\n",
    "#         sm_key = input(\"sm_key: \")\n",
    "#         print(phase3(sm_id, sm_key))\n",
    "#     if c == 4:\n",
    "#         session_key = input(\"session_key: \")\n",
    "#         PSID = input(\"PSID: \")\n",
    "#         MDCurr = int(input(\"MDCurr: \"))\n",
    "#         print(phase4(session_key, PSID, MDCurr))"
   ]
  },
  {
   "cell_type": "markdown",
   "metadata": {},
   "source": [
    "Test Cells"
   ]
  },
  {
   "cell_type": "code",
   "execution_count": 82,
   "metadata": {},
   "outputs": [
    {
     "name": "stdout",
     "output_type": "stream",
     "text": [
      "States: (0, 1, 2, 3) = (|0>, |1>, |+>, |->)\n",
      "A: [2 3 1 2 2 0 0 0 2 2 3 2 0 1 0 3 2 1]\n",
      "S: [ 0  2  4  6  8  9 14 15 16]\n",
      "T: [ 1  3  5  7 10 11 12 13 17]\n",
      "(S[i], toMeasureS[i]){0: 1, 2: 1, 4: 1, 6: 0, 8: 1, 9: 1, 14: 1, 15: 1, 16: 0}\n",
      "B: [ 5 12 13 17]\n",
      "M: 00\n",
      "H_of_M: 10\n",
      "M_prime: 00\n",
      "h_prime: 10\n",
      "States: (0, 1, 2, 3) = (|0>, |1>, |+>, |->)\n",
      "A: [0 2 3 0 1 2 0 1 2 2 3 0 3 3 1 3 0 0]\n",
      "S: [ 0  1  2  3  9 10 11 12 16]\n",
      "T: [ 4  5  6  7  8 13 14 15 17]\n",
      "(S[i], toMeasureS[i]){0: 0, 1: 0, 2: 1, 3: 1, 9: 0, 10: 1, 11: 0, 12: 1, 16: 0}\n",
      "B: [ 4  7 14 17]\n",
      "M: 00\n",
      "H_of_M: 10\n",
      "M_prime: 00\n",
      "h_prime: 10\n"
     ]
    },
    {
     "data": {
      "text/plain": [
       "True"
      ]
     },
     "execution_count": 82,
     "metadata": {},
     "output_type": "execute_result"
    }
   ],
   "source": [
    "phase1(\"00\", \"00\", \"00\", \"00\")"
   ]
  },
  {
   "cell_type": "code",
   "execution_count": 83,
   "metadata": {},
   "outputs": [
    {
     "name": "stdout",
     "output_type": "stream",
     "text": [
      "Rb='0101010110011010'\n",
      "Ra='1111111111000001'\n",
      "cc_sm_key='0000000000000000'\n",
      "_Ra='1111111111000001'\n",
      "_Rb='0101010110011010'\n",
      "__Ra='1111111111000001'\n",
      "__Rb='0101010110011010'\n"
     ]
    },
    {
     "data": {
      "text/plain": [
       "True"
      ]
     },
     "execution_count": 83,
     "metadata": {},
     "output_type": "execute_result"
    }
   ],
   "source": [
    "phase2(\"00\", \"00\")"
   ]
  },
  {
   "cell_type": "code",
   "execution_count": 85,
   "metadata": {},
   "outputs": [
    {
     "name": "stdout",
     "output_type": "stream",
     "text": [
      "States: (0, 1, 2, 3) = (|0>, |1>, |+>, |->)\n",
      "A: [2 0 0 2 2 3 1 2 0 0 3 1 1 3 1 1 3 0]\n",
      "S: [ 2  3  5  7  9 11 12 13 17]\n",
      "T: [ 0  1  4  6  8 10 14 15 16]\n",
      "(S[i], toMeasureS[i]){2: 1, 3: 0, 5: 1, 7: 1, 9: 1, 11: 0, 12: 1, 13: 0, 17: 0}\n",
      "B: [ 1  6  8 14]\n",
      "M: 00\n",
      "H_of_M: 10\n",
      "M_prime: 00\n",
      "h_prime: 10\n"
     ]
    },
    {
     "data": {
      "text/plain": [
       "True"
      ]
     },
     "execution_count": 85,
     "metadata": {},
     "output_type": "execute_result"
    }
   ],
   "source": [
    "phase3(\"00\", \"00\")"
   ]
  },
  {
   "cell_type": "code",
   "execution_count": 86,
   "metadata": {},
   "outputs": [
    {
     "name": "stdout",
     "output_type": "stream",
     "text": [
      "PSID='00'\n",
      "session_key='00'\n",
      "nan_session_key='00'\n",
      "decrypted_data='{\"MDCurr\": 100, \"PSID\": \"00\", \"Tsm\": 1707581309.622434}'\n",
      "data_obj={'MDCurr': 100, 'PSID': '00', 'Tsm': 1707581309.622434}\n"
     ]
    },
    {
     "data": {
      "text/plain": [
       "True"
      ]
     },
     "execution_count": 86,
     "metadata": {},
     "output_type": "execute_result"
    }
   ],
   "source": [
    "phase4(\"00\", \"00\", 100)"
   ]
  }
 ],
 "metadata": {
  "kernelspec": {
   "display_name": ".venv",
   "language": "python",
   "name": "python3"
  },
  "language_info": {
   "codemirror_mode": {
    "name": "ipython",
    "version": 3
   },
   "file_extension": ".py",
   "mimetype": "text/x-python",
   "name": "python",
   "nbconvert_exporter": "python",
   "pygments_lexer": "ipython3",
   "version": "3.9.13"
  }
 },
 "nbformat": 4,
 "nbformat_minor": 2
}
