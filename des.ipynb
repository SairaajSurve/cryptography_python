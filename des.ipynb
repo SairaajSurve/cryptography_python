{
 "cells": [
  {
   "cell_type": "code",
   "execution_count": 86,
   "metadata": {},
   "outputs": [],
   "source": [
    "from Crypto.Cipher import DES\n",
    "from Crypto.Random import get_random_bytes\n",
    "import Padding"
   ]
  },
  {
   "cell_type": "code",
   "execution_count": 87,
   "metadata": {},
   "outputs": [
    {
     "data": {
      "text/plain": [
       "('secret data',\n",
       " b'@\\x9c\\x91\\xba\\x9f\\x07\\x03X',\n",
       " 'secret data\\x05\\x05\\x05\\x05\\x05')"
      ]
     },
     "execution_count": 87,
     "metadata": {},
     "output_type": "execute_result"
    }
   ],
   "source": [
    "data = \"secret data\"\n",
    "padded_data = Padding.appendPadding(\n",
    "    data, blocksize=Padding.DES_blocksize, mode=0)\n",
    "# key has to be in bytes. if in string then convert to bytes\n",
    "key = get_random_bytes(8)\n",
    "data, key, padded_data"
   ]
  },
  {
   "cell_type": "code",
   "execution_count": 88,
   "metadata": {},
   "outputs": [
    {
     "data": {
      "text/plain": [
       "b'\\x0b\\x92I;\\x0f\\xa1]\\x04'"
      ]
     },
     "execution_count": 88,
     "metadata": {},
     "output_type": "execute_result"
    }
   ],
   "source": [
    "# since only 8 bits of key are ysed\n",
    "cipher = DES.new(key, DES.MODE_OFB)\n",
    "iv = cipher.iv\n",
    "iv"
   ]
  },
  {
   "cell_type": "code",
   "execution_count": 89,
   "metadata": {},
   "outputs": [
    {
     "data": {
      "text/plain": [
       "b'\\xf19+WD\\x82\\xa8\\xbe:\\xb9\\xb3\\x9f\\x02L<\\x98'"
      ]
     },
     "execution_count": 89,
     "metadata": {},
     "output_type": "execute_result"
    }
   ],
   "source": [
    "cipher_text = cipher.encrypt(padded_data.encode(\"utf-8\"))\n",
    "cipher_text"
   ]
  },
  {
   "cell_type": "code",
   "execution_count": 91,
   "metadata": {},
   "outputs": [
    {
     "data": {
      "text/plain": [
       "'secret data'"
      ]
     },
     "execution_count": 91,
     "metadata": {},
     "output_type": "execute_result"
    }
   ],
   "source": [
    "cipher = DES.new(key, DES.MODE_OFB, iv)\n",
    "decrypted_text = cipher.decrypt(cipher_text)\n",
    "unpadded_text = Padding.removePadding(decrypted_text.decode(), mode=0)\n",
    "unpadded_text"
   ]
  },
  {
   "attachments": {},
   "cell_type": "markdown",
   "metadata": {},
   "source": [
    "Similarly other modes are implemented"
   ]
  }
 ],
 "metadata": {
  "kernelspec": {
   "display_name": ".venv",
   "language": "python",
   "name": "python3"
  },
  "language_info": {
   "codemirror_mode": {
    "name": "ipython",
    "version": 3
   },
   "file_extension": ".py",
   "mimetype": "text/x-python",
   "name": "python",
   "nbconvert_exporter": "python",
   "pygments_lexer": "ipython3",
   "version": "3.9.13"
  },
  "orig_nbformat": 4
 },
 "nbformat": 4,
 "nbformat_minor": 2
}
