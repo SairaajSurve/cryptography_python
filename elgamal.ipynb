{
 "cells": [
  {
   "cell_type": "code",
   "execution_count": 329,
   "metadata": {},
   "outputs": [],
   "source": [
    "from Crypto.Util.number import *\n",
    "import Crypto\n",
    "import random\n",
    "import libnum\n",
    "import hashlib"
   ]
  },
  {
   "cell_type": "code",
   "execution_count": 330,
   "metadata": {},
   "outputs": [],
   "source": [
    "# get a primitive root of p (assuming p is prime)\n",
    "\n",
    "### below code returns smallest primitive root\n",
    "\n",
    "def primitive_root(p):\n",
    "    eTotient = p-1\n",
    "    g = 3\n",
    "    e = eTotient//2\n",
    "    while (pow(g, e, p) != eTotient):\n",
    "        g = g+2\n",
    "    return g\n",
    "\n",
    "\n",
    "### below code selectsa random primitive root but is time impractically resource intensive (for personal desktop)\n",
    "\n",
    "# def primitive_root(p):\n",
    "#     eTotient = p-1\n",
    "#     g = 3\n",
    "#     e = eTotient//2\n",
    "    # p_roots = []\n",
    "    # while g < p:\n",
    "    #     if (pow(g, e, p) == eTotient):\n",
    "    #         p_roots.append(g)\n",
    "    #     g = g+2\n",
    "    # return random.choice(g)"
   ]
  },
  {
   "cell_type": "code",
   "execution_count": 331,
   "metadata": {},
   "outputs": [
    {
     "data": {
      "text/plain": [
       "('hello', 448378203247)"
      ]
     },
     "execution_count": 331,
     "metadata": {},
     "output_type": "execute_result"
    }
   ],
   "source": [
    "message_str = \"hello\"\n",
    "message_int = int.from_bytes(message_str .encode(encoding='utf8'), byteorder='big')\n",
    "message_str, message_int"
   ]
  },
  {
   "cell_type": "code",
   "execution_count": 332,
   "metadata": {},
   "outputs": [
    {
     "data": {
      "text/plain": [
       "256"
      ]
     },
     "execution_count": 332,
     "metadata": {},
     "output_type": "execute_result"
    }
   ],
   "source": [
    "bits = 256\n",
    "bits"
   ]
  },
  {
   "cell_type": "code",
   "execution_count": 333,
   "metadata": {},
   "outputs": [
    {
     "data": {
      "text/plain": [
       "73168929198960983101991047777325421656263320071864520343869144367392114908521"
      ]
     },
     "execution_count": 333,
     "metadata": {},
     "output_type": "execute_result"
    }
   ],
   "source": [
    "p = Crypto.Util.number.getPrime(bits, randfunc=Crypto.Random.get_random_bytes)\n",
    "p"
   ]
  },
  {
   "cell_type": "code",
   "execution_count": 334,
   "metadata": {},
   "outputs": [
    {
     "data": {
      "text/plain": [
       "7"
      ]
     },
     "execution_count": 334,
     "metadata": {},
     "output_type": "execute_result"
    }
   ],
   "source": [
    "g = primitive_root(p)\n",
    "g"
   ]
  },
  {
   "cell_type": "code",
   "execution_count": 335,
   "metadata": {},
   "outputs": [
    {
     "data": {
      "text/plain": [
       "(4869939111079834070230290980532467705476326326557770283212929309146633035576,\n",
       " 53250955902708512728871579407839256447072508423868774860545337090939134516520)"
      ]
     },
     "execution_count": 335,
     "metadata": {},
     "output_type": "execute_result"
    }
   ],
   "source": [
    "# alice's private key (x) and public key (Y, g, p)\n",
    "x = random.randrange(3, p)\n",
    "Y = pow(g,x,p)\n",
    "x, Y"
   ]
  },
  {
   "cell_type": "code",
   "execution_count": 336,
   "metadata": {},
   "outputs": [
    {
     "data": {
      "text/plain": [
       "(39201843487000792027942296188370276078892655228326818619343549425172935735534,\n",
       " 52594071770839203054739048575968650328981372523406486645901758689407269795949,\n",
       " 46114014224473623273594621622614071357788120058692467946355608947290060306331)"
      ]
     },
     "execution_count": 336,
     "metadata": {},
     "output_type": "execute_result"
    }
   ],
   "source": [
    "k = random.randrange(3, p)\n",
    "a = pow(g, k, p)\n",
    "b = (pow(Y, k, p)*message_int) % p\n",
    "k, a, b"
   ]
  },
  {
   "cell_type": "code",
   "execution_count": 337,
   "metadata": {},
   "outputs": [
    {
     "data": {
      "text/plain": [
       "(448378203247, 'hello')"
      ]
     },
     "execution_count": 337,
     "metadata": {},
     "output_type": "execute_result"
    }
   ],
   "source": [
    "message_recovered = (b*libnum.invmod(pow(a, x, p), p)) % p\n",
    "m_rec = int.to_bytes(message_recovered, len(message_str), byteorder='big')\n",
    "message_recovered, m_rec.decode('utf8', 'strict')"
   ]
  }
 ],
 "metadata": {
  "kernelspec": {
   "display_name": ".venv",
   "language": "python",
   "name": "python3"
  },
  "language_info": {
   "codemirror_mode": {
    "name": "ipython",
    "version": 3
   },
   "file_extension": ".py",
   "mimetype": "text/x-python",
   "name": "python",
   "nbconvert_exporter": "python",
   "pygments_lexer": "ipython3",
   "version": "3.9.13"
  },
  "orig_nbformat": 4
 },
 "nbformat": 4,
 "nbformat_minor": 2
}
