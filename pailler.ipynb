{
 "cells": [
  {
   "attachments": {},
   "cell_type": "markdown",
   "metadata": {},
   "source": [
    "Code - https://python-paillier.readthedocs.io/en/latest/usage.html\n",
    "\n",
    "Explanation - https://en.wikipedia.org/wiki/Paillier_cryptosystem"
   ]
  },
  {
   "cell_type": "code",
   "execution_count": 1,
   "metadata": {},
   "outputs": [],
   "source": [
    "from phe import paillier"
   ]
  },
  {
   "cell_type": "code",
   "execution_count": 2,
   "metadata": {},
   "outputs": [],
   "source": [
    "# If you’re going to have lots of private keys lying around, then perhaps you should invest in a keyring on which to store your PaillierPrivateKey instances:\n",
    "\n",
    "keyring = paillier.PaillierPrivateKeyring()"
   ]
  },
  {
   "cell_type": "code",
   "execution_count": 3,
   "metadata": {},
   "outputs": [
    {
     "name": "stdout",
     "output_type": "stream",
     "text": [
      "<PaillierPublicKey 2a58e7ef23> <PaillierPrivateKey for <PaillierPublicKey 2a58e7ef23>>\n",
      "<PaillierPublicKey 914d16d5ac> <PaillierPrivateKey for <PaillierPublicKey 914d16d5ac>>\n"
     ]
    }
   ],
   "source": [
    "public_key1, private_key1 = paillier.generate_paillier_keypair(keyring)\n",
    "public_key2, private_key2 = paillier.generate_paillier_keypair(keyring)\n",
    "print(public_key1, private_key1)\n",
    "print(public_key2, private_key2)"
   ]
  },
  {
   "cell_type": "code",
   "execution_count": 4,
   "metadata": {},
   "outputs": [
    {
     "data": {
      "text/plain": [
       "(5, 10)"
      ]
     },
     "execution_count": 4,
     "metadata": {},
     "output_type": "execute_result"
    }
   ],
   "source": [
    "a, b = 5, 10\n",
    "a, b"
   ]
  },
  {
   "cell_type": "code",
   "execution_count": 5,
   "metadata": {},
   "outputs": [],
   "source": [
    "ca1, cb1 = public_key1.encrypt(a), public_key1.encrypt(b)"
   ]
  },
  {
   "cell_type": "code",
   "execution_count": 6,
   "metadata": {},
   "outputs": [
    {
     "data": {
      "text/plain": [
       "15"
      ]
     },
     "execution_count": 6,
     "metadata": {},
     "output_type": "execute_result"
    }
   ],
   "source": [
    "cipher_add = ca1 + cb1\n",
    "decipher_add = keyring.decrypt(cipher_add)\n",
    "decipher_add"
   ]
  },
  {
   "cell_type": "code",
   "execution_count": 7,
   "metadata": {},
   "outputs": [],
   "source": [
    "ca2 = public_key2.encrypt(a)"
   ]
  },
  {
   "cell_type": "code",
   "execution_count": 8,
   "metadata": {},
   "outputs": [
    {
     "data": {
      "text/plain": [
       "25"
      ]
     },
     "execution_count": 8,
     "metadata": {},
     "output_type": "execute_result"
    }
   ],
   "source": [
    "cipher_scalar_mult = ca2 * 5\n",
    "decipher_scalar_mult = keyring.decrypt(cipher_scalar_mult)\n",
    "decipher_scalar_mult"
   ]
  }
 ],
 "metadata": {
  "kernelspec": {
   "display_name": ".venv",
   "language": "python",
   "name": "python3"
  },
  "language_info": {
   "codemirror_mode": {
    "name": "ipython",
    "version": 3
   },
   "file_extension": ".py",
   "mimetype": "text/x-python",
   "name": "python",
   "nbconvert_exporter": "python",
   "pygments_lexer": "ipython3",
   "version": "3.9.13"
  },
  "orig_nbformat": 4
 },
 "nbformat": 4,
 "nbformat_minor": 2
}
