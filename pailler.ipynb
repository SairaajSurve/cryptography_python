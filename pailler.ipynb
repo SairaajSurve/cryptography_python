{
 "cells": [
  {
   "cell_type": "code",
   "execution_count": 41,
   "metadata": {},
   "outputs": [],
   "source": [
    "from phe import paillier"
   ]
  },
  {
   "cell_type": "code",
   "execution_count": 42,
   "metadata": {},
   "outputs": [],
   "source": [
    "# If you’re going to have lots of private keys lying around, then perhaps you should invest in a keyring on which to store your PaillierPrivateKey instances:\n",
    "\n",
    "keyring = paillier.PaillierPrivateKeyring()"
   ]
  },
  {
   "cell_type": "code",
   "execution_count": 43,
   "metadata": {},
   "outputs": [
    {
     "name": "stdout",
     "output_type": "stream",
     "text": [
      "<PaillierPublicKey 10a1414293> <PaillierPrivateKey for <PaillierPublicKey 10a1414293>>\n",
      "<PaillierPublicKey 1e32a02a58> <PaillierPrivateKey for <PaillierPublicKey 1e32a02a58>>\n"
     ]
    }
   ],
   "source": [
    "public_key1, private_key1 = paillier.generate_paillier_keypair(keyring)\n",
    "public_key2, private_key2 = paillier.generate_paillier_keypair(keyring)\n",
    "print(public_key1, private_key1)\n",
    "print(public_key2, private_key2)"
   ]
  },
  {
   "cell_type": "code",
   "execution_count": 44,
   "metadata": {},
   "outputs": [
    {
     "data": {
      "text/plain": [
       "(5, 10)"
      ]
     },
     "execution_count": 44,
     "metadata": {},
     "output_type": "execute_result"
    }
   ],
   "source": [
    "a, b = 5, 10\n",
    "a, b"
   ]
  },
  {
   "cell_type": "code",
   "execution_count": 45,
   "metadata": {},
   "outputs": [],
   "source": [
    "ca1, cb1 = public_key1.encrypt(a), public_key1.encrypt(b)"
   ]
  },
  {
   "cell_type": "code",
   "execution_count": 46,
   "metadata": {},
   "outputs": [
    {
     "data": {
      "text/plain": [
       "15"
      ]
     },
     "execution_count": 46,
     "metadata": {},
     "output_type": "execute_result"
    }
   ],
   "source": [
    "cipher_add = ca1 + cb1\n",
    "decipher_add = keyring.decrypt(cipher_add)\n",
    "decipher_add"
   ]
  },
  {
   "cell_type": "code",
   "execution_count": 47,
   "metadata": {},
   "outputs": [],
   "source": [
    "ca2 = public_key2.encrypt(a)"
   ]
  },
  {
   "cell_type": "code",
   "execution_count": 48,
   "metadata": {},
   "outputs": [
    {
     "data": {
      "text/plain": [
       "25"
      ]
     },
     "execution_count": 48,
     "metadata": {},
     "output_type": "execute_result"
    }
   ],
   "source": [
    "cipher_scalar_mult = ca2 * 5\n",
    "decipher_scalar_mult = keyring.decrypt(cipher_scalar_mult)\n",
    "decipher_scalar_mult"
   ]
  }
 ],
 "metadata": {
  "kernelspec": {
   "display_name": ".venv",
   "language": "python",
   "name": "python3"
  },
  "language_info": {
   "codemirror_mode": {
    "name": "ipython",
    "version": 3
   },
   "file_extension": ".py",
   "mimetype": "text/x-python",
   "name": "python",
   "nbconvert_exporter": "python",
   "pygments_lexer": "ipython3",
   "version": "3.9.13"
  },
  "orig_nbformat": 4
 },
 "nbformat": 4,
 "nbformat_minor": 2
}
