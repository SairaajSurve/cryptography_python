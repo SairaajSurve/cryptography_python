{
 "cells": [
  {
   "attachments": {},
   "cell_type": "markdown",
   "metadata": {},
   "source": [
    "# [AES](https://onboardbase.com/blog/aes-encryption-decryption/)"
   ]
  },
  {
   "cell_type": "code",
   "execution_count": 1,
   "metadata": {},
   "outputs": [],
   "source": [
    "from Crypto.Cipher import AES\n",
    "from Crypto.Random import get_random_bytes\n",
    "import Padding"
   ]
  },
  {
   "cell_type": "code",
   "execution_count": 2,
   "metadata": {},
   "outputs": [
    {
     "data": {
      "text/plain": [
       "('secret data', b'\\xee\\xb3\\xa4\\x16\\xe7\\x11\\xb0\\x90\\x12\\xfc\\xf5\\xf4\\x17nQ\\x8a')"
      ]
     },
     "execution_count": 2,
     "metadata": {},
     "output_type": "execute_result"
    }
   ],
   "source": [
    "data = \"secret data\"\n",
    "key = get_random_bytes(16) # key has to be in bytes. if in string then convert to bytes\n",
    "data, key"
   ]
  },
  {
   "attachments": {},
   "cell_type": "markdown",
   "metadata": {},
   "source": [
    "## EAX Mode"
   ]
  },
  {
   "attachments": {},
   "cell_type": "markdown",
   "metadata": {},
   "source": [
    "**Depending on the cipher you use, you’ll need to store different elements―tags, nonce, initialization vectors, MAC, etc.**"
   ]
  },
  {
   "attachments": {},
   "cell_type": "markdown",
   "metadata": {},
   "source": [
    "**Have to create new object each time we encrypt or decrypt**"
   ]
  },
  {
   "cell_type": "code",
   "execution_count": 3,
   "metadata": {},
   "outputs": [
    {
     "data": {
      "text/plain": [
       "(<Crypto.Cipher._mode_eax.EaxMode at 0x25c25038700>,\n",
       " b'S\\x91K\\xa8\\x9e{g\\xfc\\xcd,\\xb4b\\xf4\\xd3\\x82\\xb0')"
      ]
     },
     "execution_count": 3,
     "metadata": {},
     "output_type": "execute_result"
    }
   ],
   "source": [
    "cipher = AES.new(key, AES.MODE_EAX)\n",
    "nonce = cipher.nonce\n",
    "cipher, nonce"
   ]
  },
  {
   "cell_type": "code",
   "execution_count": 4,
   "metadata": {},
   "outputs": [
    {
     "data": {
      "text/plain": [
       "(b'\\x91\\xa3\\xe7\\x8e\\xe9\\xfd\\x15\\xcaa\\xab\\xd4',\n",
       " b'\\xd5\\xf1`\"\\xa2R\\xf4\\x0f\\xb4\\xce\\xf5\\\\\\xe2#\\x840')"
      ]
     },
     "execution_count": 4,
     "metadata": {},
     "output_type": "execute_result"
    }
   ],
   "source": [
    "ciphertext, tag = cipher.encrypt_and_digest(data.encode(\"utf-8\"))\n",
    "ciphertext, tag"
   ]
  },
  {
   "cell_type": "code",
   "execution_count": 5,
   "metadata": {},
   "outputs": [
    {
     "data": {
      "text/plain": [
       "b'secret data'"
      ]
     },
     "execution_count": 5,
     "metadata": {},
     "output_type": "execute_result"
    }
   ],
   "source": [
    "cipher = AES.new(key, AES.MODE_EAX, nonce)\n",
    "decrypted_data = cipher.decrypt_and_verify(ciphertext, tag)\n",
    "decrypted_data"
   ]
  },
  {
   "attachments": {},
   "cell_type": "markdown",
   "metadata": {},
   "source": [
    "## EBC"
   ]
  },
  {
   "cell_type": "code",
   "execution_count": 6,
   "metadata": {},
   "outputs": [
    {
     "data": {
      "text/plain": [
       "b'D\\xe7\\x02\\xec\\xbc\\x7f\\xae-i}5H\\xbc\\xf9\\x8eI'"
      ]
     },
     "execution_count": 6,
     "metadata": {},
     "output_type": "execute_result"
    }
   ],
   "source": [
    "cipher = AES.new(key, AES.MODE_ECB)\n",
    "padded_data = Padding.appendPadding(\n",
    "    data, blocksize=Padding.AES_blocksize, mode=0)\n",
    "ciphertext = cipher.encrypt(padded_data.encode(\"utf-8\"))\n",
    "ciphertext"
   ]
  },
  {
   "cell_type": "code",
   "execution_count": 7,
   "metadata": {},
   "outputs": [
    {
     "data": {
      "text/plain": [
       "'secret data'"
      ]
     },
     "execution_count": 7,
     "metadata": {},
     "output_type": "execute_result"
    }
   ],
   "source": [
    "cipher = AES.new(key, AES.MODE_ECB)\n",
    "decrypted_data = Padding.removePadding(\n",
    "    cipher.decrypt(ciphertext).decode(), mode=0)\n",
    "decrypted_data"
   ]
  },
  {
   "attachments": {},
   "cell_type": "markdown",
   "metadata": {},
   "source": [
    "## CBC    "
   ]
  },
  {
   "cell_type": "code",
   "execution_count": 8,
   "metadata": {},
   "outputs": [
    {
     "data": {
      "text/plain": [
       "(b'\\x07t\\x1f\\xe6\\x1e\\x04\\x05\\x89\\xf7\\xfa\\xe1_5\\xd0\\xbd\\xa2',\n",
       " b'\\xd1\\xbbH\\xb2\\xf8J\\xd3\\x80\\x15\\x16\\xffU\\xda\\xc6}9')"
      ]
     },
     "execution_count": 8,
     "metadata": {},
     "output_type": "execute_result"
    }
   ],
   "source": [
    "cipher = AES.new(key, AES.MODE_CBC)\n",
    "padded_data = Padding.appendPadding(\n",
    "    data, blocksize=Padding.AES_blocksize, mode=0)\n",
    "cipher_text = cipher.encrypt(padded_data.encode(\"utf-8\"))\n",
    "iv = cipher.iv\n",
    "iv, cipher_text"
   ]
  },
  {
   "cell_type": "code",
   "execution_count": 9,
   "metadata": {},
   "outputs": [
    {
     "data": {
      "text/plain": [
       "'secret data'"
      ]
     },
     "execution_count": 9,
     "metadata": {},
     "output_type": "execute_result"
    }
   ],
   "source": [
    "cipher = AES.new(key, AES.MODE_CBC, iv)\n",
    "decrypted_data = cipher.decrypt(cipher_text)\n",
    "unpadded_data = Padding.removePadding(decrypted_data.decode(), mode=0)\n",
    "unpadded_data"
   ]
  },
  {
   "attachments": {},
   "cell_type": "markdown",
   "metadata": {},
   "source": [
    "Similarly other modes are implemented"
   ]
  }
 ],
 "metadata": {
  "kernelspec": {
   "display_name": ".venv",
   "language": "python",
   "name": "python3"
  },
  "language_info": {
   "codemirror_mode": {
    "name": "ipython",
    "version": 3
   },
   "file_extension": ".py",
   "mimetype": "text/x-python",
   "name": "python",
   "nbconvert_exporter": "python",
   "pygments_lexer": "ipython3",
   "version": "3.9.13"
  },
  "orig_nbformat": 4
 },
 "nbformat": 4,
 "nbformat_minor": 2
}
