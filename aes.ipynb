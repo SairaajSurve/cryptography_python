{
 "cells": [
  {
   "attachments": {},
   "cell_type": "markdown",
   "metadata": {},
   "source": [
    "# [AES](https://onboardbase.com/blog/aes-encryption-decryption/)"
   ]
  },
  {
   "cell_type": "code",
   "execution_count": 107,
   "metadata": {},
   "outputs": [],
   "source": [
    "from Crypto.Cipher import AES\n",
    "from Crypto.Random import get_random_bytes\n",
    "import hashlib\n",
    "import sys\n",
    "import binascii\n",
    "import Padding"
   ]
  },
  {
   "cell_type": "code",
   "execution_count": 108,
   "metadata": {},
   "outputs": [
    {
     "data": {
      "text/plain": [
       "('secret data', b'\\x85\\x92\\xb4gq\\xca\\x84\\xac|\\xc0s\\xa4z\\xb3\\x19g')"
      ]
     },
     "execution_count": 108,
     "metadata": {},
     "output_type": "execute_result"
    }
   ],
   "source": [
    "data = \"secret data\"\n",
    "key = get_random_bytes(16) # key has to be in bytes. if in string then convert to bytes\n",
    "data, key"
   ]
  },
  {
   "attachments": {},
   "cell_type": "markdown",
   "metadata": {},
   "source": [
    "## EAX Mode"
   ]
  },
  {
   "attachments": {},
   "cell_type": "markdown",
   "metadata": {},
   "source": [
    "**Depending on the cipher you use, you’ll need to store different elements―tags, nonce, initialization vectors, MAC, etc.**"
   ]
  },
  {
   "attachments": {},
   "cell_type": "markdown",
   "metadata": {},
   "source": [
    "**Have to create new object each time we encrypt or decrypt**"
   ]
  },
  {
   "cell_type": "code",
   "execution_count": 109,
   "metadata": {},
   "outputs": [
    {
     "data": {
      "text/plain": [
       "(<Crypto.Cipher._mode_eax.EaxMode at 0x134f7eb5f70>,\n",
       " b'\\xce\\x04\\xc2\\xab\\xf7\\x1beQTL\\xe8\\xcc\\xa8\\xba\\xee\\xaf')"
      ]
     },
     "execution_count": 109,
     "metadata": {},
     "output_type": "execute_result"
    }
   ],
   "source": [
    "cipher = AES.new(key, AES.MODE_EAX)\n",
    "nonce = cipher.nonce\n",
    "cipher, nonce"
   ]
  },
  {
   "cell_type": "code",
   "execution_count": 110,
   "metadata": {},
   "outputs": [
    {
     "data": {
      "text/plain": [
       "(b'\\x8b\\x99\\xd2N\\xbaD\\x94\\x92\\x8d\\xa3\\xda',\n",
       " b'\\xbb\\x05V\\x13\\xf0\\xee*PN=\\\\P\\xaa\\x8a\\x1ac')"
      ]
     },
     "execution_count": 110,
     "metadata": {},
     "output_type": "execute_result"
    }
   ],
   "source": [
    "ciphertext, tag = cipher.encrypt_and_digest(data.encode(\"utf-8\"))\n",
    "ciphertext, tag"
   ]
  },
  {
   "cell_type": "code",
   "execution_count": 111,
   "metadata": {},
   "outputs": [
    {
     "data": {
      "text/plain": [
       "b'secret data'"
      ]
     },
     "execution_count": 111,
     "metadata": {},
     "output_type": "execute_result"
    }
   ],
   "source": [
    "cipher = AES.new(key, AES.MODE_EAX, nonce)\n",
    "decrypted_data = cipher.decrypt_and_verify(ciphertext, tag)\n",
    "decrypted_data"
   ]
  },
  {
   "attachments": {},
   "cell_type": "markdown",
   "metadata": {},
   "source": [
    "## EBC"
   ]
  },
  {
   "cell_type": "code",
   "execution_count": 112,
   "metadata": {},
   "outputs": [
    {
     "data": {
      "text/plain": [
       "b'{ 8YU\\x9aZ\\x07\\x03\\x05w\\x8cYo\\x07\\x88'"
      ]
     },
     "execution_count": 112,
     "metadata": {},
     "output_type": "execute_result"
    }
   ],
   "source": [
    "cipher = AES.new(key, AES.MODE_ECB)\n",
    "padded_data = Padding.appendPadding(\n",
    "    data, blocksize=Padding.AES_blocksize, mode=0)\n",
    "ciphertext = cipher.encrypt(padded_data.encode(\"utf-8\"))\n",
    "ciphertext"
   ]
  },
  {
   "cell_type": "code",
   "execution_count": 113,
   "metadata": {},
   "outputs": [
    {
     "data": {
      "text/plain": [
       "'secret data'"
      ]
     },
     "execution_count": 113,
     "metadata": {},
     "output_type": "execute_result"
    }
   ],
   "source": [
    "cipher = AES.new(key, AES.MODE_ECB)\n",
    "decrypted_data = Padding.removePadding(\n",
    "    cipher.decrypt(ciphertext).decode(), mode=0)\n",
    "decrypted_data"
   ]
  },
  {
   "attachments": {},
   "cell_type": "markdown",
   "metadata": {},
   "source": [
    "## CBC    "
   ]
  },
  {
   "cell_type": "code",
   "execution_count": 114,
   "metadata": {},
   "outputs": [
    {
     "data": {
      "text/plain": [
       "(b'\\xa4\\xa0\\xe4C\\xfe\\xaa\\x1f\\xbb\\x17\\xec\\xc8\\xb1\\x8a\\x0f\\xb7J',\n",
       " b'^\\xf3F\\x07\\xe8\\xeeD\\x92\\x95\\x8a&\\xec\\xb1\\x8fxG')"
      ]
     },
     "execution_count": 114,
     "metadata": {},
     "output_type": "execute_result"
    }
   ],
   "source": [
    "cipher = AES.new(key, AES.MODE_CBC)\n",
    "padded_data = Padding.appendPadding(\n",
    "    data, blocksize=Padding.AES_blocksize, mode=0)\n",
    "cipher_text = cipher.encrypt(padded_data.encode(\"utf-8\"))\n",
    "iv = cipher.iv\n",
    "iv, cipher_text"
   ]
  },
  {
   "cell_type": "code",
   "execution_count": 121,
   "metadata": {},
   "outputs": [
    {
     "data": {
      "text/plain": [
       "'secret data'"
      ]
     },
     "execution_count": 121,
     "metadata": {},
     "output_type": "execute_result"
    }
   ],
   "source": [
    "cipher = AES.new(key, AES.MODE_CBC, iv)\n",
    "decrypted_data = cipher.decrypt(cipher_text)\n",
    "unpadded_data = Padding.removePadding(decrypted_data.decode(), mode=0)\n",
    "unpadded_data"
   ]
  },
  {
   "attachments": {},
   "cell_type": "markdown",
   "metadata": {},
   "source": [
    "Similarly other modes are implemented"
   ]
  }
 ],
 "metadata": {
  "kernelspec": {
   "display_name": ".venv",
   "language": "python",
   "name": "python3"
  },
  "language_info": {
   "codemirror_mode": {
    "name": "ipython",
    "version": 3
   },
   "file_extension": ".py",
   "mimetype": "text/x-python",
   "name": "python",
   "nbconvert_exporter": "python",
   "pygments_lexer": "ipython3",
   "version": "3.9.13"
  },
  "orig_nbformat": 4
 },
 "nbformat": 4,
 "nbformat_minor": 2
}
