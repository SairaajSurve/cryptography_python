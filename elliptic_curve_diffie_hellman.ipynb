{
 "cells": [
  {
   "attachments": {},
   "cell_type": "markdown",
   "metadata": {},
   "source": [
    "Maths - https://youtu.be/vnpZXJL6QCQ\n",
    "\n",
    "Idea - https://youtu.be/dCvB-mhkT0w"
   ]
  },
  {
   "cell_type": "code",
   "execution_count": 9,
   "metadata": {},
   "outputs": [],
   "source": [
    "from tinyec import registry\n",
    "import secrets"
   ]
  },
  {
   "cell_type": "code",
   "execution_count": 10,
   "metadata": {},
   "outputs": [],
   "source": [
    "# Function to calculate compress point of elliptic curves\n",
    "def compress(publicKey):\n",
    "    return hex(publicKey.x) + hex(publicKey.y % 2)[2:]"
   ]
  },
  {
   "cell_type": "code",
   "execution_count": 11,
   "metadata": {},
   "outputs": [],
   "source": [
    "# The elliptic curve which is used for the ECDH calculations\n",
    "curve = registry.get_curve('brainpoolP256r1')"
   ]
  },
  {
   "cell_type": "code",
   "execution_count": 12,
   "metadata": {},
   "outputs": [
    {
     "data": {
      "text/plain": [
       "((13259057143473998379271431119166260694088566360450301025681300007035471000188, 46960343227818655824142175573162075997179569921788688922824810700378551259188) on \"brainpoolP256r1\" => y^2 = x^3 + 56698187605326110043627228396178346077120614539475214109386828188763884139993x + 17577232497321838841075697789794520262950426058923084567046852300633325438902 (mod 76884956397045344220809746629001649093037950200943055203735601445031516197751),\n",
       " '0x1d505c4316c1fbfcace4659eb7732d877dba4f63d87b65af873d87864f01f27c0',\n",
       " (15328659716206173774389833294005637369562905191682043818193522118698443566035, 10847388620274709161179850832697557834122163053941030711848485498206000868249) on \"brainpoolP256r1\" => y^2 = x^3 + 56698187605326110043627228396178346077120614539475214109386828188763884139993x + 17577232497321838841075697789794520262950426058923084567046852300633325438902 (mod 76884956397045344220809746629001649093037950200943055203735601445031516197751),\n",
       " '0x21e3b6c502ef5535253370c1064b82b81d7faaa9df73b8443bcca9cf07f56bd31')"
      ]
     },
     "execution_count": 12,
     "metadata": {},
     "output_type": "execute_result"
    }
   ],
   "source": [
    "# # Generation of secret key and public key\n",
    "Ka = secrets.randbelow(curve.field.n)\n",
    "X = Ka * curve.g \n",
    "\n",
    "Kb = secrets.randbelow(curve.field.n)\n",
    "Y = Kb * curve.g \n",
    "\n",
    "X, compress(X), Y, compress(Y)"
   ]
  },
  {
   "cell_type": "code",
   "execution_count": 13,
   "metadata": {},
   "outputs": [
    {
     "data": {
      "text/plain": [
       "((76820052723522662063265322460459983861905499575184003814664171258685221905144, 23231221892318262202425285952731938212105846762647796650079315418428323767048) on \"brainpoolP256r1\" => y^2 = x^3 + 56698187605326110043627228396178346077120614539475214109386828188763884139993x + 17577232497321838841075697789794520262950426058923084567046852300633325438902 (mod 76884956397045344220809746629001649093037950200943055203735601445031516197751),\n",
       " (76820052723522662063265322460459983861905499575184003814664171258685221905144, 23231221892318262202425285952731938212105846762647796650079315418428323767048) on \"brainpoolP256r1\" => y^2 = x^3 + 56698187605326110043627228396178346077120614539475214109386828188763884139993x + 17577232497321838841075697789794520262950426058923084567046852300633325438902 (mod 76884956397045344220809746629001649093037950200943055203735601445031516197751))"
      ]
     },
     "execution_count": 13,
     "metadata": {},
     "output_type": "execute_result"
    }
   ],
   "source": [
    "# (A_SharedKey): represents user A\n",
    "# (B_SharedKey): represents user B\n",
    "A_SharedKey = Ka * Y\n",
    "B_SharedKey = Kb * X\n",
    "\n",
    "A_SharedKey, B_SharedKey"
   ]
  },
  {
   "cell_type": "code",
   "execution_count": 14,
   "metadata": {},
   "outputs": [
    {
     "data": {
      "text/plain": [
       "True"
      ]
     },
     "execution_count": 14,
     "metadata": {},
     "output_type": "execute_result"
    }
   ],
   "source": [
    "A_SharedKey == B_SharedKey"
   ]
  }
 ],
 "metadata": {
  "kernelspec": {
   "display_name": ".venv",
   "language": "python",
   "name": "python3"
  },
  "language_info": {
   "codemirror_mode": {
    "name": "ipython",
    "version": 3
   },
   "file_extension": ".py",
   "mimetype": "text/x-python",
   "name": "python",
   "nbconvert_exporter": "python",
   "pygments_lexer": "ipython3",
   "version": "3.9.13"
  },
  "orig_nbformat": 4
 },
 "nbformat": 4,
 "nbformat_minor": 2
}
